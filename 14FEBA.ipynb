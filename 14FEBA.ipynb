{
 "cells": [
  {
   "cell_type": "code",
   "execution_count": null,
   "id": "c9b92bce-bb2a-40fd-86a5-f47c5d172cdf",
   "metadata": {},
   "outputs": [],
   "source": [
    "''' What is multithreading in python? Why is it used? Name the module used to handle threads in python"
   ]
  },
  {
   "cell_type": "code",
   "execution_count": null,
   "id": "21babe5b-2d4f-4dbf-aaaf-c1d3ee631bc8",
   "metadata": {},
   "outputs": [],
   "source": [
    "Multithreading in Python is a technique that allows a program to execute multiple threads concurrently within the same process. In other words, multithreading is the ability of a program to perform multiple tasks simultaneously.\n",
    "\n",
    "Multithreading is used to improve the performance and efficiency of programs by allowing multiple tasks to be executed concurrently, rather than sequentially. This is particularly useful for programs that need to perform multiple operations at the same time, such as GUI applications, web servers, and data processing applications.\n",
    "\n",
    "Python provides a built-in module called threading for creating and managing threads. The threading module allows you to create new threads, start and stop threads, and synchronize thread execution using locks, events, and other primitives. With the threading module, you can create both single and multiple threads in Python."
   ]
  },
  {
   "cell_type": "code",
   "execution_count": null,
   "id": "01eaf4c5-ea2e-44f7-b6b3-b47117ecd69f",
   "metadata": {},
   "outputs": [],
   "source": [
    "''' \u001e",
    "hy threading module used? \u001e",
    "rite the use of the following functions\u001d",
    "\n",
    "(\u0018 activeCount\u0010\u000f\n",
    "\u0016\u0018 currentThread\u0010\u000f\n",
    "\f",
    "\u0018 enumerate\u0010)"
   ]
  },
  {
   "cell_type": "code",
   "execution_count": null,
   "id": "5a28c7c5-71ef-49aa-be8e-a5b8c6ad3366",
   "metadata": {},
   "outputs": [],
   "source": [
    "The threading module is used in python for creating and managing threads.\n",
    "It provides a simple and easy to use interface for working with threads,\n",
    "   alowing developers to write multi threaded application without having to worry about low lwvwl details like thread creation ,syncronization , and communication.\n",
    "\n",
    "ACTIVECOUNT() :- This function is used to retunr the number active threads in the curent threads thead hierarchy it can be used to monitor the progress of a multithreaded application and to ensure that all the threads are runing as expected.\n",
    "\n",
    "CURRENTTHREAD() :- THis functiion is used to return a refrence to the current thread object.\n",
    "                    it can be  used to get information about the current thread such as its name ,identificatiion number, and other properties.\n",
    "    \n",
    "ENUMERAT() :-    This function returns a list of all threads objects that are currently active. \n",
    "                    It can be used to get information about all the threads hierarchy, such as their name identification number and other properties.\n",
    "                    This function is particularly usefull for debugging multi-threaded applicatiion as it allows you to see which threads are currently active and what they are doing.\n",
    "\n"
   ]
  },
  {
   "cell_type": "code",
   "execution_count": null,
   "id": "bb50ecaf-25e8-4954-94ce-eb5064574e1a",
   "metadata": {},
   "outputs": [],
   "source": [
    "'''Explain the following functions\u001d",
    "\n",
    "(\u0018 run\u0010\u000f\n",
    "\u0016\u0018 start\u0010\u000f\n",
    "\f",
    "\u0018 join\u0010\u000f\n",
    "'\u0018 isAlive\u0010)"
   ]
  },
  {
   "cell_type": "code",
   "execution_count": null,
   "id": "d4e4118b-7cbc-4110-a14c-d53d2ac0b0c2",
   "metadata": {},
   "outputs": [],
   "source": []
  },
  {
   "cell_type": "code",
   "execution_count": null,
   "id": "2aadb6b5-319c-4aad-aad1-e29eeb7451b5",
   "metadata": {},
   "outputs": [],
   "source": [
    "run() :- This method is the entry point for the threads activity. When a thread is started its \n",
    "          run() method is called. you can override this method in your own class to define the threads behaviour.\n",
    " \n",
    "start() :- this method stat the threads activity. It spawn a new mthread of control and callsthe run() method of the thread .\n",
    "            this method sould only be called once per thread object.\n",
    "             If you try to start a thread that has already been started a runtimeerror will be raised.\n",
    "        \n",
    " join() :- This method blocks thecalling thread untill the thread whose join() method is called has finished executing . This is usefull for synchronizing the executionof multiple threads.\n",
    "            if you dont call join() on a thread the main program ma terminates before the threads finishes.\n",
    "    \n",
    " isalive() :- This method\n",
    "    \n",
    "            \n",
    "    "
   ]
  },
  {
   "cell_type": "code",
   "execution_count": null,
   "id": "def91bde-23c2-449f-9c93-d91aa73fc198",
   "metadata": {},
   "outputs": [],
   "source": [
    "'''\u001e",
    "rite a python program to create two threads. Thread one must print the list of squares and thread\n",
    "two must print the list of cubes\u0019"
   ]
  },
  {
   "cell_type": "code",
   "execution_count": 1,
   "id": "74f23ddc-dd14-49e0-8b40-7e4073735a54",
   "metadata": {},
   "outputs": [
    {
     "name": "stdout",
     "output_type": "stream",
     "text": [
      "1 squared is 1\n",
      "2 squared is 4\n",
      "3 squared is 9\n",
      "4 squared is 16\n",
      "5 squared is 25\n",
      "6 squared is 36\n",
      "7 squared is 49\n",
      "8 squared is 64\n",
      "9 squared is 81\n",
      "10 squared is 100\n",
      "1 cubed is 1\n",
      "2 cubed is 8\n",
      "3 cubed is 27\n",
      "4 cubed is 64\n",
      "5 cubed is 125\n",
      "6 cubed is 216\n",
      "7 cubed is 343\n",
      "8 cubed is 512\n",
      "9 cubed is 729\n",
      "10 cubed is 1000\n"
     ]
    }
   ],
   "source": [
    "import threading\n",
    "\n",
    "def print_squares():\n",
    "    for i in range(1, 11):\n",
    "        print(f\"{i} squared is {i**2}\")\n",
    "\n",
    "def print_cubes():\n",
    "    for i in range(1, 11):\n",
    "        print(f\"{i} cubed is {i**3}\")\n",
    "t1 = threading.Thread(target=print_squares)\n",
    "t2 = threading.Thread(target=print_cubes)\n",
    "\n",
    "\n",
    "t1.start()\n",
    "t2.start()\n",
    "\n",
    "\n",
    "t1.join()\n",
    "t2.join()\n"
   ]
  },
  {
   "cell_type": "code",
   "execution_count": null,
   "id": "5dcee249-6f65-40a3-b4a0-f8c263a6f733",
   "metadata": {},
   "outputs": [],
   "source": [
    "''State advantages and disadvantages of multithreading\u0019"
   ]
  },
  {
   "cell_type": "code",
   "execution_count": null,
   "id": "3cbe1631-52b1-4592-b1ab-cc523e0dd6ae",
   "metadata": {},
   "outputs": [],
   "source": [
    "#Advantage of Multithreading\n",
    "\n",
    "Enhanced performance by decreased development time\n",
    "Simplified and streamlined program coding\n",
    "Improvised GUI responsiveness\n",
    "Simultaneous and parallelized occurrence of tasks\n",
    "Better use of cache storage by utilization of resources\n",
    "Decreased cost of maintenance\n",
    "Better use of CPU resource"
   ]
  },
  {
   "cell_type": "code",
   "execution_count": null,
   "id": "59859a87-e94d-4038-9a8f-cd5d4063680b",
   "metadata": {},
   "outputs": [],
   "source": [
    "#Disadvantages of Multithreading\n",
    "\n",
    "Complex debugging and testing processes\n",
    "Overhead switching of context\n",
    "Increased potential for deadlock occurrence\n",
    "Increased difficulty level in writing a program\n",
    "Unpredictable results"
   ]
  },
  {
   "cell_type": "code",
   "execution_count": null,
   "id": "89494ed5-dc1f-41c3-9691-9532a4ac85d9",
   "metadata": {},
   "outputs": [],
   "source": [
    "'''Explain deadlocks and race conditions."
   ]
  },
  {
   "cell_type": "code",
   "execution_count": null,
   "id": "5a3b0db4-5eba-4d00-9410-ccba2b67e9ce",
   "metadata": {},
   "outputs": [],
   "source": [
    "A  race condition is an undesirable situation that occurs when a device or system attempts to perform two or more operations at the same time, but because of the nature of the device or system, the operations must be done in the proper sequence to be done correctly.\n",
    "\n",
    "A deadlock occurs when two threads each lock a different variable at the same time and then try to lock the variable that the other thread already locked. As a result, each thread stops executing and waits for the other thread to release the variable"
   ]
  },
  {
   "cell_type": "code",
   "execution_count": null,
   "id": "53f07526-2bff-4ecb-9024-5d1f8d05c7ed",
   "metadata": {},
   "outputs": [],
   "source": []
  }
 ],
 "metadata": {
  "kernelspec": {
   "display_name": "Python 3 (ipykernel)",
   "language": "python",
   "name": "python3"
  },
  "language_info": {
   "codemirror_mode": {
    "name": "ipython",
    "version": 3
   },
   "file_extension": ".py",
   "mimetype": "text/x-python",
   "name": "python",
   "nbconvert_exporter": "python",
   "pygments_lexer": "ipython3",
   "version": "3.10.8"
  }
 },
 "nbformat": 4,
 "nbformat_minor": 5
}
